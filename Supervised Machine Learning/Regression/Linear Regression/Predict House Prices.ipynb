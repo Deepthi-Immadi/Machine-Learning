# Import Libraries

import numpy as np
import pandas as pd
import matplotlib.pyplot as plt

# Import DataSet

df = pd.read_csv('houseprices.csv')
df

# EDA

df.isnull().sum()

df.isna().any()

# Plot the graph

plt.xlabel('area(sqr ft)')
plt.ylabel('price(US $)')
plt.scatter(df.area,df.price,color='red',marker='+')

new_df=df.drop('price',axis='columns')
new_df

new_df.shape

price=df.price
price


from sklearn import linear_model

import seaborn as sns
sns.pairplot(df)
plt.show() 

model=linear_model.LinearRegression()
model.fit(new_df,price)

model.predict([[3300]])

    model.coef_

model.intercept_

# y=m *  X + b (m is the coefficient,b is the intercept)

3300*135.78767123+180616.43835616432

